{
 "cells": [
  {
   "cell_type": "code",
   "execution_count": null,
   "id": "59119d5d",
   "metadata": {},
   "outputs": [],
   "source": [
    "import pandas as pd  \n",
    "import numpy as np   \n",
    "import matplotlib.pyplot as plt\n",
    "import seaborn as sns"
   ]
  },
  {
   "cell_type": "code",
   "execution_count": null,
   "id": "f48d939d",
   "metadata": {},
   "outputs": [],
   "source": [
    "pd.DataFrame()"
   ]
  },
  {
   "cell_type": "code",
   "execution_count": null,
   "id": "4b71afcd",
   "metadata": {},
   "outputs": [],
   "source": [
    "d1={\"NAME\":['varaha','narasimha','kurma'],\n",
    "   \"AGE\":[30,35,40]}\n",
    "pd.DataFrame(d1)"
   ]
  },
  {
   "cell_type": "code",
   "execution_count": null,
   "id": "aa512f14",
   "metadata": {},
   "outputs": [],
   "source": [
    "city_n=['hyd','goa','ayodhya']\n",
    "d1['city']=city_n\n",
    "df=pd.DataFrame(d1)\n",
    "df"
   ]
  },
  {
   "cell_type": "code",
   "execution_count": null,
   "id": "36da46f5",
   "metadata": {},
   "outputs": [],
   "source": [
    "ind=['A1','A2','A3']\n",
    "df=pd.DataFrame(d1,\n",
    "              index=ind)\n",
    "df"
   ]
  },
  {
   "cell_type": "code",
   "execution_count": null,
   "id": "e476d241",
   "metadata": {},
   "outputs": [],
   "source": [
    "df.NAME=['parasuram','vamana','hanuma']\n",
    "df"
   ]
  },
  {
   "cell_type": "code",
   "execution_count": null,
   "id": "d539be3f",
   "metadata": {},
   "outputs": [],
   "source": [
    "df.NAME"
   ]
  },
  {
   "cell_type": "code",
   "execution_count": null,
   "id": "bd03ae9c",
   "metadata": {},
   "outputs": [],
   "source": [
    "df.drop('city',\n",
    "        axis=1,\n",
    "       inplace=True)"
   ]
  },
  {
   "cell_type": "code",
   "execution_count": null,
   "id": "eb20472b",
   "metadata": {},
   "outputs": [],
   "source": [
    "df.columns"
   ]
  },
  {
   "cell_type": "code",
   "execution_count": null,
   "id": "3d3acfc5",
   "metadata": {},
   "outputs": [],
   "source": [
    "df"
   ]
  },
  {
   "cell_type": "code",
   "execution_count": null,
   "id": "b5c89d73",
   "metadata": {},
   "outputs": [],
   "source": [
    "df.drop('A3',\n",
    "        axis=0,\n",
    "       inplace=True)"
   ]
  },
  {
   "cell_type": "code",
   "execution_count": null,
   "id": "09e3688b",
   "metadata": {},
   "outputs": [],
   "source": [
    "df"
   ]
  },
  {
   "cell_type": "code",
   "execution_count": null,
   "id": "8955809a",
   "metadata": {},
   "outputs": [],
   "source": [
    "df.to_csv('pout.csv',index=False)"
   ]
  },
  {
   "cell_type": "code",
   "execution_count": null,
   "id": "3b7d408a",
   "metadata": {},
   "outputs": [],
   "source": [
    "pd.read_csv(\"pout.csv\")"
   ]
  },
  {
   "cell_type": "code",
   "execution_count": 3,
   "id": "447df2d1",
   "metadata": {},
   "outputs": [
    {
     "name": "stdout",
     "output_type": "stream",
     "text": [
      "enter the string:bird rib bird rib\n",
      "palendrome\n"
     ]
    }
   ],
   "source": [
    "s=input(\"enter the string:\")\n",
    "s1=s[::-1]\n",
    "s=s.replace(' ','')\n",
    "s1=s1.replace(' ','')\n",
    "if s==s1:\n",
    "    print(\"palendrome\")\n",
    "else:\n",
    "    print(\"sorry not a palendrome try again\")"
   ]
  },
  {
   "cell_type": "code",
   "execution_count": null,
   "id": "d3a66a13",
   "metadata": {},
   "outputs": [],
   "source": []
  },
  {
   "cell_type": "code",
   "execution_count": null,
   "id": "89bd2ea8",
   "metadata": {},
   "outputs": [],
   "source": []
  }
 ],
 "metadata": {
  "kernelspec": {
   "display_name": "Python 3 (ipykernel)",
   "language": "python",
   "name": "python3"
  },
  "language_info": {
   "codemirror_mode": {
    "name": "ipython",
    "version": 3
   },
   "file_extension": ".py",
   "mimetype": "text/x-python",
   "name": "python",
   "nbconvert_exporter": "python",
   "pygments_lexer": "ipython3",
   "version": "3.11.5"
  }
 },
 "nbformat": 4,
 "nbformat_minor": 5
}
